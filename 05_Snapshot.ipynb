{
 "cells": [
  {
   "cell_type": "code",
   "execution_count": 20,
   "metadata": {},
   "outputs": [],
   "source": [
    "# 모듈 불러오기\n",
    "from jetbot import Camera\n",
    "from jetbot import bgr8_to_jpeg\n",
    "import ipywidgets.widgets as widgets\n",
    "import cv2 as cv\n",
    "import numpy as np\n",
    "import os\n",
    "import glob"
   ]
  },
  {
   "cell_type": "code",
   "execution_count": 21,
   "metadata": {},
   "outputs": [],
   "source": [
    "# 카메라 객체 생성하기\n",
    "camera = Camera.instance()"
   ]
  },
  {
   "cell_type": "code",
   "execution_count": 22,
   "metadata": {},
   "outputs": [],
   "source": [
    "# 위젯 등록하기\n",
    "camera_image = widgets.Image(format='jpeg', width=200, height=200)"
   ]
  },
  {
   "cell_type": "code",
   "execution_count": 23,
   "metadata": {},
   "outputs": [],
   "source": [
    "# 버튼 프로시저\n",
    "def button_proc(change):\n",
    "    # camera_image 위젯이 이미지 출력하기\n",
    "    camera_image.value = bgr8_to_jpeg(camera.value)\n",
    "    \n",
    "    # 현재 디렉터리 개수 얻기\n",
    "    strdir = os.getcwd()\n",
    "    count = len(glob.glob(strdir + \"/*.jpg\"))\n",
    "    \n",
    "    # 파일 이름 설정하기\n",
    "    strfile = strdir + \"/%06d.jpg\" %count\n",
    "    with open(strfile, \"wb\") as f:\n",
    "        f.write(camera_image.value)"
   ]
  },
  {
   "cell_type": "code",
   "execution_count": 24,
   "metadata": {},
   "outputs": [
    {
     "data": {
      "application/vnd.jupyter.widget-view+json": {
       "model_id": "b1d5439fbe874336ad2eaee1c0bead5a",
       "version_major": 2,
       "version_minor": 0
      },
      "text/plain": [
       "VBox(children=(Image(value=b'\\xff\\xd8\\xff\\xe0\\x00\\x10JFIF\\x00\\x01\\x01\\x00\\x00\\x01\\x00\\x01\\x00\\x00\\xff\\xdb\\x00C…"
      ]
     },
     "metadata": {},
     "output_type": "display_data"
    }
   ],
   "source": [
    "# 버튼 모양 정의하기\n",
    "\n",
    "# 버튼 레이아웃 설정하고 버튼 생성하기\n",
    "layoutButton = widgets.Layout(width='100px', height='80px')\n",
    "button_push = widgets.Button(description='Push', layout=layoutButton)\n",
    "\n",
    "# 버튼 이벤트 핸들러 설정하기\n",
    "button_push.on_click(button_proc)\n",
    "\n",
    "# 이미지 박스 만들고 이미지 출력하기\n",
    "img_temp = np.ones((200, 200, 3), np.uint8)\n",
    "camera_image.value = bgr8_to_jpeg(img_temp)\n",
    "box = widgets.VBox([camera_image, button_push], layout=widgets.Layout(align_self='center'))\n",
    "display(box)"
   ]
  },
  {
   "cell_type": "code",
   "execution_count": 25,
   "metadata": {},
   "outputs": [],
   "source": [
    "camera.stop()"
   ]
  },
  {
   "cell_type": "code",
   "execution_count": null,
   "metadata": {},
   "outputs": [],
   "source": []
  }
 ],
 "metadata": {
  "kernelspec": {
   "display_name": "Python 3",
   "language": "python",
   "name": "python3"
  },
  "language_info": {
   "codemirror_mode": {
    "name": "ipython",
    "version": 3
   },
   "file_extension": ".py",
   "mimetype": "text/x-python",
   "name": "python",
   "nbconvert_exporter": "python",
   "pygments_lexer": "ipython3",
   "version": "3.6.9"
  }
 },
 "nbformat": 4,
 "nbformat_minor": 4
}
