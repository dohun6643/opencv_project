{
 "cells": [
  {
   "cell_type": "code",
   "execution_count": 255,
   "metadata": {},
   "outputs": [],
   "source": [
    "# 모듈 불러오기\n",
    "from jetbot import Camera\n",
    "from jetbot import bgr8_to_jpeg\n",
    "import ipywidgets.widgets as widgets\n",
    "from jetbot import Robot\n",
    "\n",
    "import uuid\n",
    "import time\n",
    "import cv2 as cv\n",
    "import os\n",
    "import glob"
   ]
  },
  {
   "cell_type": "code",
   "execution_count": 256,
   "metadata": {},
   "outputs": [],
   "source": [
    "# Robot 객체 생성하기\n",
    "robot = Robot()"
   ]
  },
  {
   "cell_type": "code",
   "execution_count": 257,
   "metadata": {},
   "outputs": [],
   "source": [
    "# Camera 객체 생성하기\n",
    "camera = Camera.instance()"
   ]
  },
  {
   "cell_type": "code",
   "execution_count": 258,
   "metadata": {},
   "outputs": [],
   "source": [
    "# 위젯 등록하기\n",
    "camera_image = widgets.Image(format='jpeg', width=200, height=200)\n",
    "\n",
    "# 버튼 레이아웃 설정하고 버튼 생성하기\n",
    "layoutButton = widgets.Layout(width='100px', height='80px', align_self='center')\n",
    "\n",
    "button_up = widgets.Button(description='Up', layout=layoutButton)\n",
    "button_left = widgets.Button(description='left', layout=layoutButton)\n",
    "button_stop = widgets.Button(description='stop', layout=layoutButton)\n",
    "button_right = widgets.Button(description='right', layout=layoutButton)\n",
    "button_down = widgets.Button(description='down', layout=layoutButton)\n",
    "button_snapshot = widgets.Button(description='snapshot', layout=layoutButton)"
   ]
  },
  {
   "cell_type": "code",
   "execution_count": 259,
   "metadata": {},
   "outputs": [],
   "source": [
    "# 카메라 이미지 저장하기\n",
    "def take_snapshot(img_data):\n",
    "    # 현재 디렉터리에서 jpg 파일의 개수 얻기\n",
    "    strdir = os.getcwd()\n",
    "    count = len(glob.glob(strdir + \"/*.jpg\"))\n",
    "    \n",
    "    # img_data를 JPEG 파일 형식으로 변환함\n",
    "    camera_image.value = bgr8_to_jpeg(img_data)\n",
    "\n",
    "    # JPEG 파일 저장하기\n",
    "    if snapshot_on:\n",
    "        # 파일 이름 설정하기\n",
    "        strfile = strdir + \"/%06d.jpg\" %count\n",
    "        with open(strfile, \"wb\") as f:\n",
    "            f.write(img_data)\n",
    "\n",
    "# 버튼 프로시저\n",
    "def procButtonSnapshot(change):\n",
    "    # 카메라 이미지 저장하기\n",
    "    take_snapshot(camera.value)\n",
    "        \n",
    "def procButtonUp(change):\n",
    "    global loop_count\n",
    "    global sleep_value\n",
    "    global sleep_left_value\n",
    "    global sleep_right_value\n",
    "    global snapshot_on\n",
    "    \n",
    "    # 모터 속도\n",
    "    robot.set_motors(0.1, 0.1)\n",
    " \n",
    "    local_count = loop_count\n",
    "    while local_count > 0:\n",
    "        time.sleep(sleep_up_down_value)\n",
    "        take_snapshot(camera.value)\n",
    "        local_count = local_count - 1\n",
    "        \n",
    "    robot.stop()\n",
    "    \n",
    "def procButtonDown(change):\n",
    "    global loop_count\n",
    "    global sleep_value\n",
    "    global sleep_left_value\n",
    "    global sleep_right_value\n",
    "    global snapshot_on\n",
    "    \n",
    "    robot.set_motors(-0.1, -0.1)\n",
    " \n",
    "    local_count = loop_count\n",
    "    while local_count > 0:\n",
    "        time.sleep(sleep_up_down_value)\n",
    "        take_snapshot(camera.value)\n",
    "        local_count = local_count - 1\n",
    "        \n",
    "    robot.stop()\n",
    "    \n",
    "def procButtonLeft(change):\n",
    "    global loop_count\n",
    "    global sleep_value\n",
    "    global sleep_left_value\n",
    "    global sleep_right_value\n",
    "    global snapshot_on\n",
    "    \n",
    "    robot.set_motors(-0.1, 0.1)\n",
    " \n",
    "    local_count = loop_count\n",
    "    while local_count > 0:\n",
    "        time.sleep(sleep_left_right_value)\n",
    "        take_snapshot(camera.value)\n",
    "        local_count = local_count - 1\n",
    "        \n",
    "    robot.stop()\n",
    "    \n",
    "def procButtonRight(change):\n",
    "    global loop_count\n",
    "    global sleep_value\n",
    "    global sleep_left_value\n",
    "    global sleep_right_value\n",
    "    global snapshot_on\n",
    "    \n",
    "    robot.set_motors(0.1, -0.1)\n",
    " \n",
    "    local_count = loop_count\n",
    "    while local_count > 0:\n",
    "        time.sleep(sleep_left_right_value)\n",
    "        take_snapshot(camera.value)\n",
    "        local_count = local_count - 1\n",
    "        \n",
    "    robot.stop()\n",
    "    \n",
    "def procButtonStop(change):\n",
    "    robot.stop()"
   ]
  },
  {
   "cell_type": "code",
   "execution_count": 260,
   "metadata": {},
   "outputs": [],
   "source": [
    "# 버튼 이벤트 핸들러 설정하기\n",
    "button_up.on_click(procButtonUp)\n",
    "button_down.on_click(procButtonDown)\n",
    "button_left.on_click(procButtonLeft)\n",
    "button_right.on_click(procButtonRight)\n",
    "button_stop.on_click(procButtonStop)\n",
    "button_snapshot.on_click(procButtonSnapshot)"
   ]
  },
  {
   "cell_type": "code",
   "execution_count": 262,
   "metadata": {},
   "outputs": [
    {
     "data": {
      "application/vnd.jupyter.widget-view+json": {
       "model_id": "15ebad7d62bf4bd28a9e19859aab2b9a",
       "version_major": 2,
       "version_minor": 0
      },
      "text/plain": [
       "VBox(children=(Image(value=b'\\xff\\xd8\\xff\\xe0\\x00\\x10JFIF\\x00\\x01\\x01\\x00\\x00\\x01\\x00\\x01\\x00\\x00\\xff\\xdb\\x00C…"
      ]
     },
     "metadata": {},
     "output_type": "display_data"
    }
   ],
   "source": [
    "# 매개변수 조정하기\n",
    "loop_count = 5\n",
    "sleep_up_down_value = 0.1\n",
    "sleep_left_right_value = 0.01\n",
    "snapshot_on = False\n",
    "\n",
    "# 이미지 박스 만들고 이미지 출력하기\n",
    "boxMiddle = widgets.HBox([button_left, button_stop, button_right], layout=widgets.Layout(align_self='center'))\n",
    "box = widgets.VBox([camera_image, button_up, boxMiddle, button_down, button_snapshot], layout=widgets.Layout(align_self='center'))\n",
    "display(box)"
   ]
  },
  {
   "cell_type": "code",
   "execution_count": null,
   "metadata": {},
   "outputs": [],
   "source": []
  },
  {
   "cell_type": "code",
   "execution_count": null,
   "metadata": {},
   "outputs": [],
   "source": []
  }
 ],
 "metadata": {
  "kernelspec": {
   "display_name": "Python 3",
   "language": "python",
   "name": "python3"
  },
  "language_info": {
   "codemirror_mode": {
    "name": "ipython",
    "version": 3
   },
   "file_extension": ".py",
   "mimetype": "text/x-python",
   "name": "python",
   "nbconvert_exporter": "python",
   "pygments_lexer": "ipython3",
   "version": "3.6.9"
  }
 },
 "nbformat": 4,
 "nbformat_minor": 4
}
