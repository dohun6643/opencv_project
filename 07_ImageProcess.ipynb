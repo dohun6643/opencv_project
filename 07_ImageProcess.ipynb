{
 "cells": [
  {
   "cell_type": "code",
   "execution_count": 1,
   "metadata": {},
   "outputs": [],
   "source": [
    "# 모듈 불러오기\n",
    "from jetbot import Camera\n",
    "from jetbot import bgr8_to_jpeg\n",
    "import ipywidgets.widgets as widgets\n",
    "from jetbot import Robot\n",
    "\n",
    "import cv2 as cv\n",
    "import numpy as np\n",
    "import uuid\n",
    "import time\n",
    "import os\n",
    "import glob"
   ]
  },
  {
   "cell_type": "code",
   "execution_count": 2,
   "metadata": {},
   "outputs": [],
   "source": [
    "# global 변수\n",
    "car_move = 1"
   ]
  },
  {
   "cell_type": "code",
   "execution_count": 3,
   "metadata": {},
   "outputs": [],
   "source": [
    "# Camera 객체 생성하기\n",
    "camera = Camera.instance()"
   ]
  },
  {
   "cell_type": "code",
   "execution_count": 4,
   "metadata": {},
   "outputs": [],
   "source": [
    "# Robot 객체 생성하기\n",
    "robot = Robot()"
   ]
  },
  {
   "cell_type": "code",
   "execution_count": 5,
   "metadata": {},
   "outputs": [],
   "source": [
    "# 위젯 등록하기\n",
    "camera_image = widgets.Image(format='jpeg', width=200, height=200, layout=widgets.Layout(align_self='center'))\n",
    "camera_image.value = bgr8_to_jpeg(np.zeros((200, 200, 3)))"
   ]
  },
  {
   "cell_type": "code",
   "execution_count": 14,
   "metadata": {},
   "outputs": [],
   "source": [
    "# 버튼 프로시저\n",
    "def procCamera(change):\n",
    "    # camera_image 위젯이 이미지 출력하기\n",
    "    camera_image.value = bgr8_to_jpeg(camera.value)\n",
    "    \n",
    "def procStart(change):\n",
    "    global car_move\n",
    "    \n",
    "    # JetBot 정지 여부 설정하기\n",
    "    car_move = 1\n",
    "    \n",
    "def procStop(change):\n",
    "    global car_move\n",
    "    \n",
    "    # JetBot 정지 여부 설정하기\n",
    "    car_move = 0"
   ]
  },
  {
   "cell_type": "code",
   "execution_count": 22,
   "metadata": {},
   "outputs": [
    {
     "data": {
      "application/vnd.jupyter.widget-view+json": {
       "model_id": "75fe7bc51d334f898c357eb2610d669d",
       "version_major": 2,
       "version_minor": 0
      },
      "text/plain": [
       "VBox(children=(Image(value=b'\\xff\\xd8\\xff\\xe0\\x00\\x10JFIF\\x00\\x01\\x01\\x00\\x00\\x01\\x00\\x01\\x00\\x00\\xff\\xdb\\x00C…"
      ]
     },
     "metadata": {},
     "output_type": "display_data"
    }
   ],
   "source": [
    "# 버튼 모양 정의하기\n",
    "\n",
    "# 버튼 레이아웃 설정하고 버튼 생성하기\n",
    "layoutButton = widgets.Layout(width='100px', height='80px', align_self='center')\n",
    "button_camera = widgets.Button(description='Camera', layout=layoutButton)\n",
    "button_start = widgets.Button(description='Start', layout=layoutButton)\n",
    "button_stop = widgets.Button(description='Stop', layout=layoutButton)\n",
    "\n",
    "# 버튼 이벤트 핸들러 설정하기\n",
    "button_camera.on_click(procCamera)\n",
    "button_start.on_click(procStart)\n",
    "button_stop.on_click(procStop)\n",
    "\n",
    "# 이미지 박스 만들고 이미지 출력하기\n",
    "img_temp = np.ones((200, 200, 3), np.uint8)\n",
    "box = widgets.VBox([camera_image, button_camera, button_start, button_stop], layout=widgets.Layout(align_self='center'))\n",
    "display(box)"
   ]
  },
  {
   "cell_type": "code",
   "execution_count": 49,
   "metadata": {},
   "outputs": [],
   "source": [
    "# JetBot 제어하기\n",
    "def JetBotUp():\n",
    "    robot.set_motors(0.1, 0.1)\n",
    "\n",
    "def JetBotDown():\n",
    "    robot.set_motors(-0.1, -0.1)\n",
    "\n",
    "def JetBotLeft():\n",
    "    robot.set_motors(0.1, -0.1)\n",
    "\n",
    "def JetBotRight():\n",
    "    robot.set_motors(-0.1, 0.1)\n",
    "    \n",
    "def JetBotStop():\n",
    "    robot.set_motors(0.0, 0.0)\n",
    "    robot.stop()\n",
    "    "
   ]
  },
  {
   "cell_type": "code",
   "execution_count": 39,
   "metadata": {},
   "outputs": [],
   "source": [
    "# 다각형 그리기\n",
    "def DrawPoloygon(img_data, color, thickness, *pts):\n",
    "    x = 0\n",
    "    y = 0\n",
    "\n",
    "    arr = list()\n",
    "\n",
    "    # 좌표 리스트 만들기\n",
    "    for i, pt in enumerate(pts):\n",
    "        if i % 2 == 0:\n",
    "            x = pt\n",
    "        else:\n",
    "            y = pt\n",
    "            arr.append([x, y])\n",
    "    \n",
    "    # 점 배열 만들기\n",
    "    arr_pts = np.array([arr])\n",
    "    cv.polylines(img_data, [arr_pts], False, color, thickness)\n",
    "    \n",
    "# Gray 컬러를 Widget에서 보기\n",
    "def ShowImageGray(img_data):\n",
    "    # Gray -> BGR8\n",
    "    img_bgr8 = cv.cvtColor(img_data, cv.COLOR_GRAY2BGR)\n",
    "    \n",
    "    # BGR8 -> jpeg\n",
    "    img_jpeg = bgr8_to_jpeg(img_bgr8)\n",
    "    \n",
    "    camera_image.value = img_jpeg\n",
    "    \n",
    "def ShowImage(img_data):\n",
    "    # BGR8 -> jpeg\n",
    "    img_jpeg = bgr8_to_jpeg(img_data)\n",
    "    \n",
    "    camera_image.value = img_jpeg\n",
    "    \n",
    "def ShowText(img_data, x, y, strtext):\n",
    "    font = cv.FONT_HERSHEY_COMPLEX\n",
    "    scale = 0.5\n",
    "    color = (255, 255, 255)\n",
    "    thickness = 1\n",
    "    cv.putText(img_data, strtext, (x, y), font, scale, color, thickness)\n",
    "\n",
    "def GetMidPoint(img_data, debug_show = False):\n",
    "    mid_point = 0.0\n",
    "    \n",
    "    if debug_show:\n",
    "        img_blank = np.copy(img)\n",
    "        img_blank[:] = 0\n",
    "\n",
    "    # 외곽선 구하기\n",
    "    contours, hierachy = cv.findContours(img_data, cv.RETR_EXTERNAL, cv.CHAIN_APPROX_NONE)\n",
    "\n",
    "    height_diff = 10\n",
    "    max_area = 0\n",
    "    for contour in contours:\n",
    "        area = cv.contourArea(contour)\n",
    "        \n",
    "        if False:\n",
    "            strtext = str(area)\n",
    "            ShowText(img_blank, 0, height_diff, strtext)\n",
    "            height_diff = height_diff + 40\n",
    "\n",
    "        if area > 400 and area < 2000 and area > max_area:\n",
    "            # 외곽선 출력하기\n",
    "            if debug_show:\n",
    "                color = (255, 0, 0)\n",
    "                thickness = 1\n",
    "                cv.drawContours(img_blank, contour, -1, color, thickness)\n",
    "\n",
    "            # 외곽선 길이 구하기\n",
    "            peri = cv.arcLength(contour, True)\n",
    "\n",
    "            # 외곽선 구하기\n",
    "            epsilon = 0.06 * peri\n",
    "            approx = cv.approxPolyDP(contour, epsilon, True)\n",
    "\n",
    "            # 경계 사각형 그리기\n",
    "            x, y, w, h = cv.boundingRect(approx)\n",
    "\n",
    "            # 좌표값 출력하고 사각형 그리기\n",
    "            if debug_show:\n",
    "                strtext = \"{} {} {} {}\".format(x, y, w, h)\n",
    "                ShowText(img_blank, 0, height_diff, strtext)\n",
    "                height_diff = height_diff + 40        \n",
    "                cv.rectangle(img_blank, (x, y), (x+w, y+h), (0, 255, 0), 2)\n",
    "\n",
    "            # 너비와 높이 비율 검사하기\n",
    "            if (h / w) > 2.0:\n",
    "                mid_point = x + 0.5 * w\n",
    "                \n",
    "    if debug_show:\n",
    "        ShowText(img_blank, 0, height_diff, str(mid_point))\n",
    "        ShowImage(img_blank)\n",
    "\n",
    "    return mid_point"
   ]
  },
  {
   "cell_type": "code",
   "execution_count": 18,
   "metadata": {},
   "outputs": [],
   "source": [
    "# 이미지 변경하기\n",
    "width = camera.value.shape[1]\n",
    "height = camera.value.shape[0]\n",
    "\n",
    "img = cv.resize(camera.value, (200, 200))\n",
    "\n",
    "width = img.shape[1]\n",
    "height = img.shape[0]\n",
    "\n",
    "ShowImage(img)"
   ]
  },
  {
   "cell_type": "code",
   "execution_count": 47,
   "metadata": {},
   "outputs": [],
   "source": [
    "def RunCar():    \n",
    "    error_count = 0\n",
    "    \n",
    "    test_count = 0\n",
    "    \n",
    "    while car_move:\n",
    "        # (1) 이미지 변경하기\n",
    "        width = camera.value.shape[1]\n",
    "        height = camera.value.shape[0]\n",
    "\n",
    "        img = cv.resize(camera.value, (200, 200))\n",
    "\n",
    "        width = img.shape[1]\n",
    "        height = img.shape[0]\n",
    "\n",
    "        # (2) 카메라 이미지 BINARY 변경하기\n",
    "        img_gray = cv.cvtColor(img, cv.COLOR_BGR2GRAY)\n",
    "        result, img_thresh = cv.threshold(img_gray, 90, 255, cv.THRESH_BINARY_INV)\n",
    "\n",
    "        ShowImageGray(img_thresh)\n",
    "\n",
    "        # (3) 크롭하기\n",
    "        img_thresh[0:40, :] = 0\n",
    "        img_thresh[160:, :] = 0\n",
    "\n",
    "        ShowImageGray(img_thresh)\n",
    "\n",
    "        # (4) 침식 연산 적용해 노이즈 제거하가\n",
    "        kernel = np.ones((3, 3), np.uint8)\n",
    "        img_erode = cv.erode(img_thresh, kernel, iterations=4)\n",
    "        ShowImageGray(img_erode)\n",
    "        \n",
    "        # (6) 중심 좌표 구하기\n",
    "        mid_point = GetMidPoint(img_thresh, True)\n",
    "        \n",
    "        # (7) JetBot 움직이기\n",
    "#         if mid_point == 0.0:\n",
    "#             error_count = error_count + 1\n",
    "#             JetBotUp()\n",
    "#             time.sleep(0.01)\n",
    "        if mid_point < 90.0:\n",
    "            error_count = 0\n",
    "            \n",
    "            JetBotRight()\n",
    "            time.sleep(0.01)\n",
    "            \n",
    "            JetBotUp()\n",
    "            time.sleep(0.01)\n",
    "        elif mid_point > 110.0:\n",
    "            error_count = 0\n",
    "            \n",
    "            JetBotLeft()\n",
    "            time.sleep(0.01)\n",
    "            \n",
    "            JetBotUp()\n",
    "            time.sleep(0.01)\n",
    "        else:\n",
    "            error_count = 0\n",
    "            \n",
    "            JetBotUp()\n",
    "            time.sleep(0.01)\n",
    "        \n",
    "        if error_count > 5:\n",
    "            JetBotUp()\n",
    "            time.sleep(0.01)\n",
    "            error_count = 0\n",
    "            \n",
    "        test_count = test_count + 1\n",
    "        if test_count > 400:\n",
    "            JetBotStop()\n",
    "            break;\n"
   ]
  },
  {
   "cell_type": "code",
   "execution_count": 52,
   "metadata": {},
   "outputs": [],
   "source": [
    "# 실행하기\n",
    "RunCar()\n",
    "robot.stop()"
   ]
  },
  {
   "cell_type": "code",
   "execution_count": 53,
   "metadata": {},
   "outputs": [
    {
     "data": {
      "application/vnd.jupyter.widget-view+json": {
       "model_id": "94b7c497c8d24819b3b8393113b4b288",
       "version_major": 2,
       "version_minor": 0
      },
      "text/plain": [
       "Image(value=b'\\xff\\xd8\\xff\\xe0\\x00\\x10JFIF\\x00\\x01\\x01\\x00\\x00\\x01\\x00\\x01\\x00\\x00\\xff\\xdb\\x00C\\x00\\x02\\x01\\x0…"
      ]
     },
     "metadata": {},
     "output_type": "display_data"
    }
   ],
   "source": [
    "display(camera_image)"
   ]
  },
  {
   "cell_type": "code",
   "execution_count": null,
   "metadata": {},
   "outputs": [],
   "source": []
  }
 ],
 "metadata": {
  "kernelspec": {
   "display_name": "Python 3",
   "language": "python",
   "name": "python3"
  },
  "language_info": {
   "codemirror_mode": {
    "name": "ipython",
    "version": 3
   },
   "file_extension": ".py",
   "mimetype": "text/x-python",
   "name": "python",
   "nbconvert_exporter": "python",
   "pygments_lexer": "ipython3",
   "version": "3.6.9"
  }
 },
 "nbformat": 4,
 "nbformat_minor": 4
}
